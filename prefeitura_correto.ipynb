{
  "nbformat": 4,
  "nbformat_minor": 0,
  "metadata": {
    "colab": {
      "provenance": [],
      "authorship_tag": "ABX9TyOs9ih7BJd96yNxvbBLQ0Gc",
      "include_colab_link": true
    },
    "kernelspec": {
      "name": "python3",
      "display_name": "Python 3"
    },
    "language_info": {
      "name": "python"
    }
  },
  "cells": [
    {
      "cell_type": "markdown",
      "metadata": {
        "id": "view-in-github",
        "colab_type": "text"
      },
      "source": [
        "<a href=\"https://colab.research.google.com/github/Felviana/Python_DataScience/blob/main/prefeitura_correto.ipynb\" target=\"_parent\"><img src=\"https://colab.research.google.com/assets/colab-badge.svg\" alt=\"Open In Colab\"/></a>"
      ]
    },
    {
      "cell_type": "code",
      "source": [
        "import pandas as pd\n",
        "import numpy as np\n",
        "\n",
        "import matplotlib.pyplot as plt\n",
        "\n",
        "import chardet"
      ],
      "metadata": {
        "id": "INp0bvH8ZKfs"
      },
      "execution_count": 5,
      "outputs": []
    },
    {
      "cell_type": "code",
      "source": [
        "# Carregar o arquivo Excel\n",
        "df=pd.read_excel('sptrans.xlsx')\n"
      ],
      "metadata": {
        "id": "F1VpQ8IwZeZk"
      },
      "execution_count": 6,
      "outputs": []
    },
    {
      "cell_type": "code",
      "source": [
        "# Carregar o arquivo Excel em um DataFrame\n",
        "caminho_do_arquivo = 'sptrans_.xlsx'\n",
        "df=pd.read_excel('sptrans.xlsx')"
      ],
      "metadata": {
        "id": "JYiERBEDbjg-"
      },
      "execution_count": 7,
      "outputs": []
    },
    {
      "cell_type": "code",
      "source": [
        "# Exibir as primeiras linhas do DataFrame para entender a estrutura dos dados\n",
        "print(df.head(5))"
      ],
      "metadata": {
        "colab": {
          "base_uri": "https://localhost:8080/"
        },
        "id": "Dn0yKgpObwpz",
        "outputId": "6c74f871-2621-4c5a-e1ef-ab4797275d50"
      },
      "execution_count": 8,
      "outputs": [
        {
          "output_type": "stream",
          "name": "stdout",
          "text": [
            "          CONTA   JAN-2023    FEV-2023    MAR-2023    ABR-2023    MAI-2023   \\\n",
            "0     INGRESSOS       35679       33687       35343       31908       35844   \n",
            "1   DESEMBOLSOS       41959       33393       38728       33989       41617   \n",
            "\n",
            "    JUN-2023    JUL-2023    AGO-2023    SET-2023    OUT-2023    NOV-2023   \\\n",
            "0       34519       36717      146539       32535       40769       49058   \n",
            "1       37674       38871       34574       34885       44003       57995   \n",
            "\n",
            "    DEZ-2023    ACUMULADO   \n",
            "0       53146       565744  \n",
            "1       61872       499560  \n"
          ]
        }
      ]
    },
    {
      "cell_type": "code",
      "source": [
        "print(df.columns)\n",
        "print(df.head())\n",
        "\n",
        "df.columns = df.columns.str.strip()\n",
        "fig, ax = plt.subplots()\n",
        "ax.bar(df['CONTA'], df['ACUMULADO'], width=0.8, edgecolor=\"white\", linewidth=0.7, color='green')\n",
        "ax.set(xlim=(-0.5, 1.5), xticks=np.arange(2), ylim=(0, 50), yticks=np.arange(0, 55, 5))\n",
        "plt.title('Receita X Despesas')\n",
        "plt.xlabel('CONTA')\n",
        "plt.ylabel('ACUMULADO')\n",
        "\n",
        "plt.show()"
      ],
      "metadata": {
        "colab": {
          "base_uri": "https://localhost:8080/",
          "height": 732
        },
        "id": "J2epuCpWi4WV",
        "outputId": "2a532ee0-6ca0-4a35-ddd8-6325e232f496"
      },
      "execution_count": 9,
      "outputs": [
        {
          "output_type": "stream",
          "name": "stdout",
          "text": [
            "Index(['CONTA', ' JAN-2023 ', ' FEV-2023 ', ' MAR-2023 ', ' ABR-2023 ',\n",
            "       ' MAI-2023 ', ' JUN-2023 ', ' JUL-2023 ', ' AGO-2023 ', ' SET-2023 ',\n",
            "       ' OUT-2023 ', ' NOV-2023 ', ' DEZ-2023 ', ' ACUMULADO '],\n",
            "      dtype='object')\n",
            "          CONTA   JAN-2023    FEV-2023    MAR-2023    ABR-2023    MAI-2023   \\\n",
            "0     INGRESSOS       35679       33687       35343       31908       35844   \n",
            "1   DESEMBOLSOS       41959       33393       38728       33989       41617   \n",
            "\n",
            "    JUN-2023    JUL-2023    AGO-2023    SET-2023    OUT-2023    NOV-2023   \\\n",
            "0       34519       36717      146539       32535       40769       49058   \n",
            "1       37674       38871       34574       34885       44003       57995   \n",
            "\n",
            "    DEZ-2023    ACUMULADO   \n",
            "0       53146       565744  \n",
            "1       61872       499560  \n"
          ]
        },
        {
          "output_type": "display_data",
          "data": {
            "text/plain": [
              "<Figure size 640x480 with 1 Axes>"
            ],
            "image/png": "[encoded data removed]"
          },
          "metadata": {}
        }
      ]
    },
    {
      "cell_type": "markdown",
      "source": [],
      "metadata": {
        "id": "V54bBAfRe0cP"
      }
    }
  ]
}