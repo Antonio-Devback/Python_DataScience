{
  "nbformat": 4,
  "nbformat_minor": 0,
  "metadata": {
    "colab": {
      "provenance": [],
      "authorship_tag": "ABX9TyNaLcaUwzs8BxQgMqDrD7Cq",
      "include_colab_link": true
    },
    "kernelspec": {
      "name": "python3",
      "display_name": "Python 3"
    },
    "language_info": {
      "name": "python"
    }
  },
  "cells": [
    {
      "cell_type": "markdown",
      "metadata": {
        "id": "view-in-github",
        "colab_type": "text"
      },
      "source": [
        "<a href=\"https://colab.research.google.com/github/Felviana/Python_DataScience/blob/main/corrida_de_kart.ipynb\" target=\"_parent\"><img src=\"https://colab.research.google.com/assets/colab-badge.svg\" alt=\"Open In Colab\"/></a>"
      ]
    },
    {
      "cell_type": "code",
      "source": [
        "import numpy as np"
      ],
      "metadata": {
        "id": "hzNXOPbTrfHi"
      },
      "execution_count": 18,
      "outputs": []
    },
    {
      "cell_type": "code",
      "source": [
        "# Nomes dos corredores\n",
        "nomes_corredores = [\"Felipe\", \"Tha\", \"Fran\", \"Vick\", \"Maria\", \"Joao\"]"
      ],
      "metadata": {
        "id": "V0ngYi0auBMo"
      },
      "execution_count": 17,
      "outputs": []
    },
    {
      "cell_type": "code",
      "execution_count": 19,
      "metadata": {
        "id": "HFPvvnLnorea"
      },
      "outputs": [],
      "source": [
        "#tempo de voltas de corredores\n",
        "\n",
        "felipe=np.array([50,45,55,46,66,43,54,56,60,59])\n",
        "tha=np.array([52,45,44,60,50,44,56,67,59, 58])\n",
        "fran=np.array([49, 48, 47, 50, 52, 53, 55,60,59,58])\n",
        "vick=np.array([50,51,52,54,55,57,59,60,58,55])\n",
        "maria=np.array([51,52,53,54,55,54,53,52,51,49])\n",
        "joao=np.array([51,52,57,54,55,54,53,52,50,49])\n"
      ]
    },
    {
      "cell_type": "code",
      "source": [
        "# Matriz de tempos de voltas\n",
        "tempos_voltas = np.array([felipe, tha, fran, vick, maria, joao])\n",
        "print(tempos_voltas)"
      ],
      "metadata": {
        "id": "cP4ebiK6tzYq",
        "colab": {
          "base_uri": "https://localhost:8080/"
        },
        "outputId": "1182e6f7-1793-4529-e1b7-aa7cecf60c18"
      },
      "execution_count": 20,
      "outputs": [
        {
          "output_type": "stream",
          "name": "stdout",
          "text": [
            "[[50 45 55 46 66 43 54 56 60 59]\n",
            " [52 45 44 60 50 44 56 67 59 58]\n",
            " [49 48 47 50 52 53 55 60 59 58]\n",
            " [50 51 52 54 55 57 59 60 58 55]\n",
            " [51 52 53 54 55 54 53 52 51 49]\n",
            " [51 52 57 54 55 54 53 52 50 49]]\n"
          ]
        }
      ]
    },
    {
      "cell_type": "code",
      "source": [
        "# Calculando a média das voltas para cada corredor\n",
        "media_voltas = np.mean(tempos_voltas, axis=1)"
      ],
      "metadata": {
        "id": "1Shg2sVfVpMR"
      },
      "execution_count": 21,
      "outputs": []
    },
    {
      "cell_type": "code",
      "source": [
        "# Encontrando a volta com a média mais rápida\n",
        "volta_media_rapida = np.argmin(media_voltas) + 1\n",
        "print(f\"A volta com a média mais rápida foi a volta {volta_media_rapida} com tempo médio de {media_voltas[volta_media_rapida - 1]} segundos.\")"
      ],
      "metadata": {
        "colab": {
          "base_uri": "https://localhost:8080/"
        },
        "id": "BIK-J8ffXe-I",
        "outputId": "6e55ff1e-b42a-4dbb-c326-f3ef2c1a66da"
      },
      "execution_count": 22,
      "outputs": [
        {
          "output_type": "stream",
          "name": "stdout",
          "text": [
            "A volta com a média mais rápida foi a volta 5 com tempo médio de 52.4 segundos.\n"
          ]
        }
      ]
    },
    {
      "cell_type": "code",
      "source": [
        "# Função para encontrar a melhor volta da prova e em qual volta\n",
        "def melhor_volta(corredores):\n",
        "    melhor_tempo = np.min(corredores)\n",
        "    corredor, volta = np.where(corredores == melhor_tempo)\n",
        "    return corredor[0], volta[0] + 1  # Adicionamos 1 para compensar o índice base 0\n",
        "# Encontrando a melhor volta da prova\n",
        "corredor, volta = melhor_volta(tempos_voltas)\n",
        "print(f\"A melhor volta da prova foi de {nomes_corredores[corredor]} na volta {volta} com {tempos_voltas[corredor, volta - 1]} segundos.\")"
      ],
      "metadata": {
        "colab": {
          "base_uri": "https://localhost:8080/"
        },
        "id": "0XsMgTOmuwS2",
        "outputId": "c2cca354-c64a-4a62-f280-2d0c0c45fe92"
      },
      "execution_count": 23,
      "outputs": [
        {
          "output_type": "stream",
          "name": "stdout",
          "text": [
            "A melhor volta da prova foi de Felipe na volta 6 com 43 segundos.\n"
          ]
        }
      ]
    },
    {
      "cell_type": "code",
      "source": [
        "# Imprimindo a classificação final em ordem crescente\n",
        "classificacao=classificacao_final(tempos_voltas)\n",
        "print(\"Classificação final em ordem crescente:\")\n",
        "for posicao, corredor_idx in enumerate(classificacao):\n",
        "     print(f\"{posicao + 1}. {nomes_corredores[corredor_idx]} - A melhor média foi {media_voltas[corredor_idx]} segundos.\")\n"
      ],
      "metadata": {
        "colab": {
          "base_uri": "https://localhost:8080/"
        },
        "id": "0DryIHl_wApB",
        "outputId": "6b40450a-2988-4ebb-891a-01da4301649a"
      },
      "execution_count": 28,
      "outputs": [
        {
          "output_type": "stream",
          "name": "stdout",
          "text": [
            "Classificação final em ordem crescente:\n",
            "1. Maria - A melhor média foi 52.4 segundos.\n",
            "2. Joao - A melhor média foi 52.7 segundos.\n",
            "3. Fran - A melhor média foi 53.1 segundos.\n",
            "4. Felipe - A melhor média foi 53.4 segundos.\n",
            "5. Tha - A melhor média foi 53.5 segundos.\n",
            "6. Vick - A melhor média foi 55.1 segundos.\n"
          ]
        }
      ]
    }
  ]
}